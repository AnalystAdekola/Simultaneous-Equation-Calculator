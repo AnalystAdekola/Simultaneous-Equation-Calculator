{
 "cells": [
  {
   "cell_type": "markdown",
   "id": "0f09eccc",
   "metadata": {},
   "source": [
    "## Simultaneous Equation In Python"
   ]
  },
  {
   "cell_type": "markdown",
   "id": "723a7549",
   "metadata": {},
   "source": [
    "### Let's Solve this Simultaneous Equation\n",
    "5x + 7y = 50   \n",
    "10x - 2y = 40"
   ]
  },
  {
   "cell_type": "code",
   "execution_count": 2,
   "id": "755946e2",
   "metadata": {},
   "outputs": [
    {
     "name": "stdout",
     "output_type": "stream",
     "text": [
      "ax + by = c\n",
      "dx + ey = f\n",
      "Enter the value of:\n",
      "a = 5\n",
      "b = 7\n",
      "c = 50\n",
      "d = 10\n",
      "e = -2\n",
      "f = 40\n",
      "The value of x and y is :\n",
      "4.75 3.75\n"
     ]
    }
   ],
   "source": [
    "print('ax + by = c') # For equation 1\n",
    "print('dx + ey = f') # For equation 2\n",
    "print(\"Enter the value of:\")\n",
    "a = int(input('a = ')) #Input for a\n",
    "b = int(input('b = ')) #Input for b\n",
    "c = int(input('c = ')) #Input for c\n",
    "d = int(input('d = ')) #Input for d\n",
    "e = int(input('e = ')) #Input for e\n",
    "f = int(input('f = ')) #Input for f\n",
    "n = a*e - b*d \n",
    "print('The value of x and y is :')\n",
    "if n!=0: \n",
    "    x=(c*e - b*f)/n\n",
    "    y=(a*f - c*d)/n\n",
    "    print('{:.2f} {:.2f}'.format(x+0, y+0))"
   ]
  },
  {
   "cell_type": "code",
   "execution_count": 3,
   "id": "310ff84c",
   "metadata": {},
   "outputs": [
    {
     "name": "stdout",
     "output_type": "stream",
     "text": [
      "50\n",
      "40\n"
     ]
    }
   ],
   "source": [
    "# Let's Confirm the result\n",
    "a1 = (5*4.75) + (7*3.75)\n",
    "b1 = (10*4.75) - (2*3.75)\n",
    "print(int(a1))\n",
    "print(int(b1))"
   ]
  },
  {
   "cell_type": "code",
   "execution_count": 13,
   "id": "6236549d",
   "metadata": {},
   "outputs": [
    {
     "name": "stdout",
     "output_type": "stream",
     "text": [
      "20.38\n",
      "17.16\n"
     ]
    }
   ],
   "source": [
    "# Let's Confirm the result\n",
    "print(int(2*5.31) + (3*3.46))\n",
    "print(int(6*5.31) - (4*3.46))"
   ]
  },
  {
   "cell_type": "code",
   "execution_count": null,
   "id": "70f22177",
   "metadata": {},
   "outputs": [],
   "source": []
  }
 ],
 "metadata": {
  "kernelspec": {
   "display_name": "Python 3",
   "language": "python",
   "name": "python3"
  },
  "language_info": {
   "codemirror_mode": {
    "name": "ipython",
    "version": 3
   },
   "file_extension": ".py",
   "mimetype": "text/x-python",
   "name": "python",
   "nbconvert_exporter": "python",
   "pygments_lexer": "ipython3",
   "version": "3.8.8"
  }
 },
 "nbformat": 4,
 "nbformat_minor": 5
}
